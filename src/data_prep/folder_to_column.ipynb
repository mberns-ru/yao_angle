{
 "cells": [
  {
   "cell_type": "code",
   "execution_count": 39,
   "metadata": {},
   "outputs": [
    {
     "name": "stdout",
     "output_type": "stream",
     "text": [
      "/home/shane/video_tracking_project\n"
     ]
    }
   ],
   "source": [
    "import os\n",
    "import sys\n",
    "from pathlib import Path\n",
    "import pandas as pd\n",
    "import shutil\n",
    "\n",
    "# chdir to\n",
    "wd = Path('/home/shane/video_tracking_project').resolve()\n",
    "os.chdir(wd)\n",
    "!pwd"
   ]
  },
  {
   "cell_type": "code",
   "execution_count": 40,
   "metadata": {},
   "outputs": [],
   "source": [
    "\n",
    "# print sub directories of data_path\n",
    "# for d in data_path.iterdir():\n",
    "#     if d.name == \"HL\":\n",
    "#         print(d.name)\n",
    "# sample_csv = (data_path / 'Norm' / 'J_F38_Fluffy-240304-090855' / 'J_F38_Fluffy-240304-090855.csv')\n",
    "\n",
    "\n",
    "# def add_hl(csv_path, hl):\n",
    "#     df = pd.read_csv(csv_path)\n",
    "#     df['HL'] = hl\n",
    "#     new_csv_path = csv_path.parent / f'record.csv'\n",
    "#     df.to_csv(new_csv_path, index=False)\n",
    "\n",
    "\n",
    "# add_hl(sample_csv, False)"
   ]
  },
  {
   "cell_type": "code",
   "execution_count": 41,
   "metadata": {},
   "outputs": [],
   "source": [
    "def add_hl(csv_path, hl):\n",
    "    df = pd.read_csv(csv_path)\n",
    "    df['HL'] = hl\n",
    "    df.to_csv(csv_path, index=False)\n",
    "\n",
    "\n",
    "def naming_convention(data_dir):\n",
    "    data_dir = Path(data_dir)\n",
    "    cleaned_dir = data_dir / 'cleaned'\n",
    "    cleaned_dir.mkdir(exist_ok=True)\n",
    "\n",
    "    def get_files(dir):\n",
    "        paths = []\n",
    "        for pattern in ['**/*.csv', '**/*.h5']:\n",
    "            paths.extend(dir.glob(pattern))\n",
    "        return paths\n",
    "\n",
    "    for hl in [\"HL\", \"Norm\"]:\n",
    "        old_dir = data_dir / hl\n",
    "        for file_path in get_files(old_dir):\n",
    "            # Get the relative path from old_dir and construct the new directory path\n",
    "            relative_path = file_path.relative_to(old_dir)\n",
    "            new_dir = cleaned_dir / relative_path.parent\n",
    "            new_dir.mkdir(parents=True, exist_ok=True)\n",
    "\n",
    "            # handle each file type\n",
    "            if file_path.name.endswith('analysis.csv'):\n",
    "                shutil.copy(file_path, new_dir / 'analysis.csv')\n",
    "            elif file_path.name.endswith('.csv'):\n",
    "                new_file_name = 'record.csv'\n",
    "                new_path = new_dir / new_file_name\n",
    "                shutil.copy(file_path, new_path)\n",
    "                add_hl(new_path, hl=(hl == \"HL\"))\n",
    "            elif file_path.name.endswith('.h5'):\n",
    "                shutil.copy(file_path, new_dir / 'data.h5')\n",
    "            else:\n",
    "                continue\n",
    "\n",
    "\n",
    "data_dir = wd / 'data' / 'hl_data'\n",
    "naming_convention(data_dir)"
   ]
  }
 ],
 "metadata": {
  "kernelspec": {
   "display_name": "ml_new",
   "language": "python",
   "name": "python3"
  },
  "language_info": {
   "codemirror_mode": {
    "name": "ipython",
    "version": 3
   },
   "file_extension": ".py",
   "mimetype": "text/x-python",
   "name": "python",
   "nbconvert_exporter": "python",
   "pygments_lexer": "ipython3",
   "version": "3.11.8"
  }
 },
 "nbformat": 4,
 "nbformat_minor": 2
}
